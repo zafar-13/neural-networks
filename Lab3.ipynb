{
 "cells": [
  {
   "cell_type": "code",
   "execution_count": 1,
   "id": "3ac93dd5",
   "metadata": {},
   "outputs": [],
   "source": [
    "import numpy as np\n",
    "import tensorflow as tf\n",
    "from tensorflow.keras import Sequential\n",
    "from sklearn.model_selection import train_test_split\n",
    "\n",
    "from tensorflow.keras.optimizers import Adam\n",
    "from tensorflow.keras.layers import Dense, BatchNormalization, Dropout\n",
    "from tensorflow.keras.callbacks import EarlyStopping"
   ]
  },
  {
   "cell_type": "code",
   "execution_count": 2,
   "id": "20c794ca",
   "metadata": {},
   "outputs": [],
   "source": [
    "np.random.seed(42)\n",
    "\n",
    "num_samples = 1000\n",
    "ages = np.random.randint(18, 70, size=num_samples)\n",
    "bmis = np.random.uniform(18.5, 40, size=num_samples)\n",
    "blood_sugar_levels = np.random.uniform(70, 140, size=num_samples)"
   ]
  },
  {
   "cell_type": "code",
   "execution_count": 3,
   "id": "86d5147e",
   "metadata": {},
   "outputs": [],
   "source": [
    "X = np.vstack((ages, bmis, blood_sugar_levels)).T\n",
    "\n",
    "y = np.logical_and(bmis > 25, blood_sugar_levels > 100).astype(int)"
   ]
  },
  {
   "cell_type": "code",
   "execution_count": 4,
   "id": "29f2c55a",
   "metadata": {},
   "outputs": [],
   "source": [
    "def minmaxscale(X):\n",
    "    return (X - X.min(axis=0)) / (X.max(axis=0) - X.min(axis=0))\n",
    "\n",
    "X_scaled = minmaxscale(X)"
   ]
  },
  {
   "cell_type": "code",
   "execution_count": 5,
   "id": "f1323ff8",
   "metadata": {},
   "outputs": [],
   "source": [
    "X_train, X_test, y_train, y_test = train_test_split(X_scaled, y, test_size=0.2, random_state=42)"
   ]
  },
  {
   "cell_type": "markdown",
   "id": "0d3564bb",
   "metadata": {},
   "source": [
    "# Building Model According to Part 1"
   ]
  },
  {
   "cell_type": "code",
   "execution_count": 6,
   "id": "4befe1d8",
   "metadata": {},
   "outputs": [],
   "source": [
    "model = Sequential([\n",
    "    Dense(10, activation='relu', input_shape=(X_train.shape[1],)),\n",
    "    Dense(8, activation='relu'),\n",
    "    Dense(8, activation='relu'),\n",
    "    Dense(4, activation='relu'),\n",
    "    Dense(1, activation='sigmoid')\n",
    "])"
   ]
  },
  {
   "cell_type": "code",
   "execution_count": 7,
   "id": "6bebd155",
   "metadata": {},
   "outputs": [
    {
     "name": "stdout",
     "output_type": "stream",
     "text": [
      "Model: \"sequential\"\n",
      "_________________________________________________________________\n",
      " Layer (type)                Output Shape              Param #   \n",
      "=================================================================\n",
      " dense (Dense)               (None, 10)                40        \n",
      "                                                                 \n",
      " dense_1 (Dense)             (None, 8)                 88        \n",
      "                                                                 \n",
      " dense_2 (Dense)             (None, 8)                 72        \n",
      "                                                                 \n",
      " dense_3 (Dense)             (None, 4)                 36        \n",
      "                                                                 \n",
      " dense_4 (Dense)             (None, 1)                 5         \n",
      "                                                                 \n",
      "=================================================================\n",
      "Total params: 241 (964.00 Byte)\n",
      "Trainable params: 241 (964.00 Byte)\n",
      "Non-trainable params: 0 (0.00 Byte)\n",
      "_________________________________________________________________\n"
     ]
    }
   ],
   "source": [
    "model.compile(optimizer='adam',loss='binary_crossentropy',metrics=['accuracy'])\n",
    "model.summary()"
   ]
  },
  {
   "cell_type": "code",
   "execution_count": 8,
   "id": "87bfd55d",
   "metadata": {},
   "outputs": [
    {
     "name": "stdout",
     "output_type": "stream",
     "text": [
      "Epoch 1/100\n",
      "20/20 [==============================] - 1s 10ms/step - loss: 0.8340 - accuracy: 0.3531 - val_loss: 0.8319 - val_accuracy: 0.3562\n",
      "Epoch 2/100\n",
      "20/20 [==============================] - 0s 5ms/step - loss: 0.7863 - accuracy: 0.3578 - val_loss: 0.7885 - val_accuracy: 0.3500\n",
      "Epoch 3/100\n",
      "20/20 [==============================] - 0s 5ms/step - loss: 0.7510 - accuracy: 0.4250 - val_loss: 0.7630 - val_accuracy: 0.4125\n",
      "Epoch 4/100\n",
      "20/20 [==============================] - 0s 5ms/step - loss: 0.7295 - accuracy: 0.5437 - val_loss: 0.7415 - val_accuracy: 0.5375\n",
      "Epoch 5/100\n",
      "20/20 [==============================] - 0s 5ms/step - loss: 0.7122 - accuracy: 0.6078 - val_loss: 0.7226 - val_accuracy: 0.5875\n",
      "Epoch 6/100\n",
      "20/20 [==============================] - 0s 5ms/step - loss: 0.6958 - accuracy: 0.6125 - val_loss: 0.7026 - val_accuracy: 0.5875\n",
      "Epoch 7/100\n",
      "20/20 [==============================] - 0s 5ms/step - loss: 0.6795 - accuracy: 0.6125 - val_loss: 0.6854 - val_accuracy: 0.5875\n",
      "Epoch 8/100\n",
      "20/20 [==============================] - 0s 5ms/step - loss: 0.6637 - accuracy: 0.6125 - val_loss: 0.6689 - val_accuracy: 0.5875\n",
      "Epoch 9/100\n",
      "20/20 [==============================] - 0s 5ms/step - loss: 0.6464 - accuracy: 0.6125 - val_loss: 0.6483 - val_accuracy: 0.5875\n",
      "Epoch 10/100\n",
      "20/20 [==============================] - 0s 5ms/step - loss: 0.6293 - accuracy: 0.6156 - val_loss: 0.6274 - val_accuracy: 0.6062\n",
      "Epoch 11/100\n",
      "20/20 [==============================] - 0s 5ms/step - loss: 0.6022 - accuracy: 0.6453 - val_loss: 0.5883 - val_accuracy: 0.6500\n",
      "Epoch 12/100\n",
      "20/20 [==============================] - 0s 5ms/step - loss: 0.5758 - accuracy: 0.6797 - val_loss: 0.5628 - val_accuracy: 0.7000\n",
      "Epoch 13/100\n",
      "20/20 [==============================] - 0s 5ms/step - loss: 0.5424 - accuracy: 0.7328 - val_loss: 0.5153 - val_accuracy: 0.7812\n",
      "Epoch 14/100\n",
      "20/20 [==============================] - 0s 5ms/step - loss: 0.5079 - accuracy: 0.7766 - val_loss: 0.4802 - val_accuracy: 0.8062\n",
      "Epoch 15/100\n",
      "20/20 [==============================] - 0s 5ms/step - loss: 0.4761 - accuracy: 0.7984 - val_loss: 0.4443 - val_accuracy: 0.8313\n",
      "Epoch 16/100\n",
      "20/20 [==============================] - 0s 5ms/step - loss: 0.4479 - accuracy: 0.8141 - val_loss: 0.4142 - val_accuracy: 0.8313\n",
      "Epoch 17/100\n",
      "20/20 [==============================] - 0s 5ms/step - loss: 0.4231 - accuracy: 0.8250 - val_loss: 0.3849 - val_accuracy: 0.8500\n",
      "Epoch 18/100\n",
      "20/20 [==============================] - 0s 5ms/step - loss: 0.3982 - accuracy: 0.8422 - val_loss: 0.3590 - val_accuracy: 0.8562\n",
      "Epoch 19/100\n",
      "20/20 [==============================] - 0s 6ms/step - loss: 0.3781 - accuracy: 0.8547 - val_loss: 0.3356 - val_accuracy: 0.8562\n",
      "Epoch 20/100\n",
      "20/20 [==============================] - 0s 5ms/step - loss: 0.3590 - accuracy: 0.8562 - val_loss: 0.3240 - val_accuracy: 0.8687\n",
      "Epoch 21/100\n",
      "20/20 [==============================] - 0s 5ms/step - loss: 0.3441 - accuracy: 0.8687 - val_loss: 0.3066 - val_accuracy: 0.8875\n",
      "Epoch 22/100\n",
      "20/20 [==============================] - 0s 5ms/step - loss: 0.3321 - accuracy: 0.8687 - val_loss: 0.2930 - val_accuracy: 0.8750\n",
      "Epoch 23/100\n",
      "20/20 [==============================] - 0s 5ms/step - loss: 0.3203 - accuracy: 0.8656 - val_loss: 0.2837 - val_accuracy: 0.8750\n",
      "Epoch 24/100\n",
      "20/20 [==============================] - 0s 5ms/step - loss: 0.3134 - accuracy: 0.8562 - val_loss: 0.2722 - val_accuracy: 0.8750\n",
      "Epoch 25/100\n",
      "20/20 [==============================] - 0s 5ms/step - loss: 0.3034 - accuracy: 0.8703 - val_loss: 0.2715 - val_accuracy: 0.8813\n",
      "Epoch 26/100\n",
      "20/20 [==============================] - 0s 5ms/step - loss: 0.2999 - accuracy: 0.8719 - val_loss: 0.2601 - val_accuracy: 0.8938\n",
      "Epoch 27/100\n",
      "20/20 [==============================] - 0s 5ms/step - loss: 0.2937 - accuracy: 0.8672 - val_loss: 0.2567 - val_accuracy: 0.8938\n",
      "Epoch 28/100\n",
      "20/20 [==============================] - 0s 5ms/step - loss: 0.2880 - accuracy: 0.8703 - val_loss: 0.2559 - val_accuracy: 0.9062\n",
      "Epoch 29/100\n",
      "20/20 [==============================] - 0s 5ms/step - loss: 0.2873 - accuracy: 0.8750 - val_loss: 0.2484 - val_accuracy: 0.8875\n",
      "Epoch 30/100\n",
      "20/20 [==============================] - 0s 5ms/step - loss: 0.2830 - accuracy: 0.8719 - val_loss: 0.2510 - val_accuracy: 0.9062\n",
      "Epoch 31/100\n",
      "20/20 [==============================] - 0s 5ms/step - loss: 0.2827 - accuracy: 0.8672 - val_loss: 0.2461 - val_accuracy: 0.9125\n",
      "Epoch 32/100\n",
      "20/20 [==============================] - 0s 6ms/step - loss: 0.2791 - accuracy: 0.8703 - val_loss: 0.2424 - val_accuracy: 0.8938\n",
      "Epoch 33/100\n",
      "20/20 [==============================] - 0s 5ms/step - loss: 0.2767 - accuracy: 0.8750 - val_loss: 0.2420 - val_accuracy: 0.9062\n",
      "Epoch 34/100\n",
      "20/20 [==============================] - 0s 5ms/step - loss: 0.2767 - accuracy: 0.8719 - val_loss: 0.2419 - val_accuracy: 0.9062\n",
      "Epoch 35/100\n",
      "20/20 [==============================] - 0s 5ms/step - loss: 0.2709 - accuracy: 0.8734 - val_loss: 0.2431 - val_accuracy: 0.9000\n",
      "Epoch 36/100\n",
      "20/20 [==============================] - 0s 5ms/step - loss: 0.2725 - accuracy: 0.8687 - val_loss: 0.2377 - val_accuracy: 0.9062\n",
      "Epoch 37/100\n",
      "20/20 [==============================] - 0s 5ms/step - loss: 0.2758 - accuracy: 0.8797 - val_loss: 0.2356 - val_accuracy: 0.8938\n",
      "Epoch 38/100\n",
      "20/20 [==============================] - 0s 5ms/step - loss: 0.2705 - accuracy: 0.8719 - val_loss: 0.2473 - val_accuracy: 0.8813\n",
      "Epoch 39/100\n",
      "20/20 [==============================] - 0s 5ms/step - loss: 0.2838 - accuracy: 0.8703 - val_loss: 0.2369 - val_accuracy: 0.9062\n",
      "Epoch 40/100\n",
      "20/20 [==============================] - 0s 5ms/step - loss: 0.2958 - accuracy: 0.8672 - val_loss: 0.2350 - val_accuracy: 0.9062\n",
      "Epoch 41/100\n",
      "20/20 [==============================] - 0s 5ms/step - loss: 0.2667 - accuracy: 0.8734 - val_loss: 0.2370 - val_accuracy: 0.9062\n",
      "Epoch 42/100\n",
      "20/20 [==============================] - 0s 5ms/step - loss: 0.2694 - accuracy: 0.8828 - val_loss: 0.2385 - val_accuracy: 0.9062\n",
      "Epoch 43/100\n",
      "20/20 [==============================] - 0s 5ms/step - loss: 0.2687 - accuracy: 0.8672 - val_loss: 0.2316 - val_accuracy: 0.9062\n",
      "Epoch 44/100\n",
      "20/20 [==============================] - 0s 5ms/step - loss: 0.2616 - accuracy: 0.8766 - val_loss: 0.2348 - val_accuracy: 0.9000\n",
      "Epoch 45/100\n",
      "20/20 [==============================] - 0s 5ms/step - loss: 0.2685 - accuracy: 0.8734 - val_loss: 0.2385 - val_accuracy: 0.9062\n",
      "Epoch 46/100\n",
      "20/20 [==============================] - 0s 5ms/step - loss: 0.2678 - accuracy: 0.8828 - val_loss: 0.2461 - val_accuracy: 0.8687\n",
      "Epoch 47/100\n",
      "20/20 [==============================] - 0s 5ms/step - loss: 0.2670 - accuracy: 0.8719 - val_loss: 0.2289 - val_accuracy: 0.9000\n",
      "Epoch 48/100\n",
      "20/20 [==============================] - 0s 5ms/step - loss: 0.2712 - accuracy: 0.8734 - val_loss: 0.2376 - val_accuracy: 0.9062\n",
      "Epoch 49/100\n",
      "20/20 [==============================] - 0s 5ms/step - loss: 0.2685 - accuracy: 0.8687 - val_loss: 0.2341 - val_accuracy: 0.9062\n",
      "Epoch 50/100\n",
      "20/20 [==============================] - 0s 5ms/step - loss: 0.2687 - accuracy: 0.8750 - val_loss: 0.2305 - val_accuracy: 0.9062\n",
      "Epoch 51/100\n",
      "20/20 [==============================] - 0s 5ms/step - loss: 0.2626 - accuracy: 0.8750 - val_loss: 0.2281 - val_accuracy: 0.8938\n",
      "Epoch 52/100\n",
      "20/20 [==============================] - 0s 5ms/step - loss: 0.2630 - accuracy: 0.8656 - val_loss: 0.2425 - val_accuracy: 0.8813\n",
      "Epoch 53/100\n",
      "20/20 [==============================] - 0s 5ms/step - loss: 0.2724 - accuracy: 0.8687 - val_loss: 0.2312 - val_accuracy: 0.9062\n",
      "Epoch 54/100\n",
      "20/20 [==============================] - 0s 5ms/step - loss: 0.2628 - accuracy: 0.8703 - val_loss: 0.2278 - val_accuracy: 0.9000\n",
      "Epoch 55/100\n",
      "20/20 [==============================] - 0s 5ms/step - loss: 0.2626 - accuracy: 0.8766 - val_loss: 0.2269 - val_accuracy: 0.8938\n",
      "Epoch 56/100\n",
      "20/20 [==============================] - 0s 6ms/step - loss: 0.2692 - accuracy: 0.8703 - val_loss: 0.2284 - val_accuracy: 0.9000\n",
      "Epoch 57/100\n",
      "20/20 [==============================] - 0s 5ms/step - loss: 0.2743 - accuracy: 0.8672 - val_loss: 0.2277 - val_accuracy: 0.9062\n",
      "Epoch 58/100\n",
      "20/20 [==============================] - 0s 5ms/step - loss: 0.2672 - accuracy: 0.8719 - val_loss: 0.2344 - val_accuracy: 0.9062\n"
     ]
    },
    {
     "name": "stdout",
     "output_type": "stream",
     "text": [
      "Epoch 59/100\n",
      "20/20 [==============================] - 0s 5ms/step - loss: 0.3387 - accuracy: 0.8469 - val_loss: 0.2328 - val_accuracy: 0.8813\n",
      "Epoch 60/100\n",
      "20/20 [==============================] - 0s 5ms/step - loss: 0.3228 - accuracy: 0.8578 - val_loss: 0.2340 - val_accuracy: 0.9062\n",
      "Epoch 61/100\n",
      "20/20 [==============================] - 0s 5ms/step - loss: 0.2919 - accuracy: 0.8594 - val_loss: 0.2915 - val_accuracy: 0.8687\n",
      "Epoch 62/100\n",
      "20/20 [==============================] - 0s 9ms/step - loss: 0.3257 - accuracy: 0.8562 - val_loss: 0.2303 - val_accuracy: 0.9062\n",
      "Epoch 63/100\n",
      "20/20 [==============================] - 0s 6ms/step - loss: 0.3055 - accuracy: 0.8531 - val_loss: 0.2519 - val_accuracy: 0.8875\n",
      "Epoch 64/100\n",
      "20/20 [==============================] - 0s 5ms/step - loss: 0.2674 - accuracy: 0.8703 - val_loss: 0.2753 - val_accuracy: 0.8750\n",
      "Epoch 65/100\n",
      "20/20 [==============================] - 0s 5ms/step - loss: 0.2845 - accuracy: 0.8656 - val_loss: 0.2319 - val_accuracy: 0.9062\n",
      "Epoch 66/100\n",
      "20/20 [==============================] - 0s 5ms/step - loss: 0.2937 - accuracy: 0.8719 - val_loss: 0.2830 - val_accuracy: 0.8687\n",
      "Epoch 67/100\n",
      "20/20 [==============================] - 0s 5ms/step - loss: 0.3322 - accuracy: 0.8516 - val_loss: 0.2953 - val_accuracy: 0.8687\n",
      "Epoch 68/100\n",
      "20/20 [==============================] - 0s 5ms/step - loss: 0.3155 - accuracy: 0.8516 - val_loss: 0.2326 - val_accuracy: 0.9062\n",
      "Epoch 69/100\n",
      "20/20 [==============================] - 0s 5ms/step - loss: 0.3134 - accuracy: 0.8547 - val_loss: 0.2456 - val_accuracy: 0.8875\n",
      "Epoch 70/100\n",
      "20/20 [==============================] - 0s 5ms/step - loss: 0.3013 - accuracy: 0.8609 - val_loss: 0.2338 - val_accuracy: 0.9062\n",
      "Epoch 71/100\n",
      "20/20 [==============================] - 0s 5ms/step - loss: 0.3637 - accuracy: 0.8484 - val_loss: 0.2282 - val_accuracy: 0.8813\n",
      "Epoch 72/100\n",
      "20/20 [==============================] - 0s 5ms/step - loss: 0.4129 - accuracy: 0.8234 - val_loss: 0.2533 - val_accuracy: 0.8875\n",
      "Epoch 73/100\n",
      "20/20 [==============================] - 0s 5ms/step - loss: 0.3125 - accuracy: 0.8484 - val_loss: 0.2481 - val_accuracy: 0.8875\n",
      "Epoch 74/100\n",
      "20/20 [==============================] - 0s 5ms/step - loss: 0.3294 - accuracy: 0.8469 - val_loss: 0.3321 - val_accuracy: 0.8750\n",
      "Epoch 75/100\n",
      "20/20 [==============================] - 0s 5ms/step - loss: 0.4679 - accuracy: 0.8359 - val_loss: 0.7602 - val_accuracy: 0.7437\n",
      "Epoch 76/100\n",
      "20/20 [==============================] - 0s 5ms/step - loss: 0.4446 - accuracy: 0.8344 - val_loss: 0.4742 - val_accuracy: 0.8250\n",
      "Epoch 77/100\n",
      "20/20 [==============================] - 0s 5ms/step - loss: 0.4782 - accuracy: 0.8219 - val_loss: 0.4814 - val_accuracy: 0.7688\n",
      "Epoch 78/100\n",
      "20/20 [==============================] - 0s 5ms/step - loss: 0.5605 - accuracy: 0.7797 - val_loss: 0.7280 - val_accuracy: 0.7750\n",
      "Epoch 79/100\n",
      "20/20 [==============================] - 0s 5ms/step - loss: 0.5499 - accuracy: 0.8062 - val_loss: 0.5048 - val_accuracy: 0.7812\n",
      "Epoch 80/100\n",
      "20/20 [==============================] - 0s 5ms/step - loss: 0.3733 - accuracy: 0.8359 - val_loss: 0.2764 - val_accuracy: 0.8500\n",
      "Epoch 81/100\n",
      "20/20 [==============================] - 0s 5ms/step - loss: 0.3234 - accuracy: 0.8422 - val_loss: 0.2719 - val_accuracy: 0.8813\n",
      "Epoch 82/100\n",
      "20/20 [==============================] - 0s 5ms/step - loss: 0.3379 - accuracy: 0.8484 - val_loss: 0.2375 - val_accuracy: 0.8813\n",
      "Epoch 83/100\n",
      "20/20 [==============================] - 0s 5ms/step - loss: 0.3910 - accuracy: 0.8406 - val_loss: 0.2499 - val_accuracy: 0.9000\n",
      "Epoch 84/100\n",
      "20/20 [==============================] - 0s 5ms/step - loss: 0.4300 - accuracy: 0.8234 - val_loss: 0.3272 - val_accuracy: 0.8562\n",
      "Epoch 85/100\n",
      "20/20 [==============================] - 0s 5ms/step - loss: 0.4340 - accuracy: 0.8281 - val_loss: 0.2952 - val_accuracy: 0.8750\n",
      "Epoch 86/100\n",
      "20/20 [==============================] - 0s 5ms/step - loss: 0.3604 - accuracy: 0.8422 - val_loss: 0.2619 - val_accuracy: 0.8875\n",
      "Epoch 87/100\n",
      "20/20 [==============================] - 0s 5ms/step - loss: 0.5276 - accuracy: 0.8281 - val_loss: 0.3616 - val_accuracy: 0.8500\n",
      "Epoch 88/100\n",
      "20/20 [==============================] - 0s 5ms/step - loss: 0.5926 - accuracy: 0.8094 - val_loss: 0.3383 - val_accuracy: 0.8562\n",
      "Epoch 89/100\n",
      "20/20 [==============================] - 0s 5ms/step - loss: 0.5493 - accuracy: 0.8234 - val_loss: 0.3606 - val_accuracy: 0.8750\n",
      "Epoch 90/100\n",
      "20/20 [==============================] - 0s 5ms/step - loss: 0.9203 - accuracy: 0.7719 - val_loss: 0.4601 - val_accuracy: 0.8125\n",
      "Epoch 91/100\n",
      "20/20 [==============================] - 0s 5ms/step - loss: 0.4829 - accuracy: 0.8406 - val_loss: 0.2878 - val_accuracy: 0.8500\n",
      "Epoch 92/100\n",
      "20/20 [==============================] - 0s 5ms/step - loss: 0.5386 - accuracy: 0.8219 - val_loss: 0.3606 - val_accuracy: 0.8438\n",
      "Epoch 93/100\n",
      "20/20 [==============================] - 0s 5ms/step - loss: 0.3561 - accuracy: 0.8422 - val_loss: 0.2955 - val_accuracy: 0.8500\n",
      "Epoch 94/100\n",
      "20/20 [==============================] - 0s 5ms/step - loss: 0.6457 - accuracy: 0.8000 - val_loss: 0.5549 - val_accuracy: 0.8500\n",
      "Epoch 95/100\n",
      "20/20 [==============================] - 0s 5ms/step - loss: 0.3998 - accuracy: 0.8453 - val_loss: 0.2607 - val_accuracy: 0.8875\n",
      "Epoch 96/100\n",
      "20/20 [==============================] - 0s 5ms/step - loss: 0.5271 - accuracy: 0.8234 - val_loss: 0.3824 - val_accuracy: 0.8250\n",
      "Epoch 97/100\n",
      "20/20 [==============================] - 0s 5ms/step - loss: 0.4195 - accuracy: 0.8172 - val_loss: 0.2819 - val_accuracy: 0.8875\n",
      "Epoch 98/100\n",
      "20/20 [==============================] - 0s 5ms/step - loss: 0.3750 - accuracy: 0.8438 - val_loss: 0.2501 - val_accuracy: 0.8813\n",
      "Epoch 99/100\n",
      "20/20 [==============================] - 0s 5ms/step - loss: 0.4892 - accuracy: 0.8328 - val_loss: 0.6899 - val_accuracy: 0.7625\n",
      "Epoch 100/100\n",
      "20/20 [==============================] - 0s 5ms/step - loss: 1.0955 - accuracy: 0.7656 - val_loss: 0.4601 - val_accuracy: 0.8750\n"
     ]
    },
    {
     "data": {
      "text/plain": [
       "<keras.src.callbacks.History at 0x164e174d0>"
      ]
     },
     "execution_count": 8,
     "metadata": {},
     "output_type": "execute_result"
    }
   ],
   "source": [
    "model.fit(X_train, y_train, epochs=100, batch_size=32, validation_split=0.2, verbose=1)"
   ]
  },
  {
   "cell_type": "code",
   "execution_count": 9,
   "id": "ab889c8d",
   "metadata": {},
   "outputs": [
    {
     "name": "stdout",
     "output_type": "stream",
     "text": [
      "7/7 [==============================] - 0s 10ms/step - loss: 0.7285 - accuracy: 0.8100\n",
      "Test Loss: 0.728545069694519, Test Accuracy: 0.8100000023841858\n"
     ]
    }
   ],
   "source": [
    "loss, accuracy = model.evaluate(X_test, y_test)\n",
    "print(f\"Test Loss: {loss}, Test Accuracy: {accuracy}\")"
   ]
  },
  {
   "cell_type": "markdown",
   "id": "8bb5cb7e",
   "metadata": {},
   "source": [
    "# Tuning the Model"
   ]
  },
  {
   "cell_type": "code",
   "execution_count": 10,
   "id": "3d663066",
   "metadata": {},
   "outputs": [],
   "source": [
    "model = Sequential([\n",
    "    Dense(50, activation='relu', input_shape=(X_train.shape[1],)),\n",
    "    BatchNormalization(),\n",
    "    Dropout(0.2),\n",
    "    Dense(40, activation='relu'),\n",
    "    Dropout(0.2),\n",
    "    Dense(30, activation='relu'),\n",
    "    BatchNormalization(),\n",
    "    Dense(20, activation='relu'),\n",
    "    Dense(10, activation='relu'),\n",
    "    Dense(1, activation='sigmoid')\n",
    "])"
   ]
  },
  {
   "cell_type": "code",
   "execution_count": 11,
   "id": "0ae6fffd",
   "metadata": {},
   "outputs": [
    {
     "name": "stderr",
     "output_type": "stream",
     "text": [
      "WARNING:absl:At this time, the v2.11+ optimizer `tf.keras.optimizers.Adam` runs slowly on M1/M2 Macs, please use the legacy Keras optimizer instead, located at `tf.keras.optimizers.legacy.Adam`.\n",
      "WARNING:absl:There is a known slowdown when using v2.11+ Keras optimizers on M1/M2 Macs. Falling back to the legacy Keras optimizer, i.e., `tf.keras.optimizers.legacy.Adam`.\n"
     ]
    },
    {
     "name": "stdout",
     "output_type": "stream",
     "text": [
      "Model: \"sequential_1\"\n",
      "_________________________________________________________________\n",
      " Layer (type)                Output Shape              Param #   \n",
      "=================================================================\n",
      " dense_5 (Dense)             (None, 50)                200       \n",
      "                                                                 \n",
      " batch_normalization (Batch  (None, 50)                200       \n",
      " Normalization)                                                  \n",
      "                                                                 \n",
      " dropout (Dropout)           (None, 50)                0         \n",
      "                                                                 \n",
      " dense_6 (Dense)             (None, 40)                2040      \n",
      "                                                                 \n",
      " dropout_1 (Dropout)         (None, 40)                0         \n",
      "                                                                 \n",
      " dense_7 (Dense)             (None, 30)                1230      \n",
      "                                                                 \n",
      " batch_normalization_1 (Bat  (None, 30)                120       \n",
      " chNormalization)                                                \n",
      "                                                                 \n",
      " dense_8 (Dense)             (None, 20)                620       \n",
      "                                                                 \n",
      " dense_9 (Dense)             (None, 10)                210       \n",
      "                                                                 \n",
      " dense_10 (Dense)            (None, 1)                 11        \n",
      "                                                                 \n",
      "=================================================================\n",
      "Total params: 4631 (18.09 KB)\n",
      "Trainable params: 4471 (17.46 KB)\n",
      "Non-trainable params: 160 (640.00 Byte)\n",
      "_________________________________________________________________\n"
     ]
    }
   ],
   "source": [
    "optimizer = Adam(learning_rate=0.001)\n",
    "model.compile(optimizer=optimizer, loss='binary_crossentropy', metrics=['accuracy'])\n",
    "model.summary()"
   ]
  },
  {
   "cell_type": "code",
   "execution_count": 12,
   "id": "06421b40",
   "metadata": {},
   "outputs": [],
   "source": [
    "early_stopping = EarlyStopping(monitor='val_loss', patience=5, restore_best_weights=True)"
   ]
  },
  {
   "cell_type": "code",
   "execution_count": 13,
   "id": "c7604424",
   "metadata": {},
   "outputs": [
    {
     "name": "stdout",
     "output_type": "stream",
     "text": [
      "Epoch 1/100\n",
      "20/20 [==============================] - 3s 16ms/step - loss: 0.5350 - accuracy: 0.7266 - val_loss: 0.6161 - val_accuracy: 0.5813\n",
      "Epoch 2/100\n",
      "20/20 [==============================] - 0s 8ms/step - loss: 0.3636 - accuracy: 0.8562 - val_loss: 0.5641 - val_accuracy: 0.6938\n",
      "Epoch 3/100\n",
      "20/20 [==============================] - 0s 7ms/step - loss: 0.3467 - accuracy: 0.8422 - val_loss: 0.5326 - val_accuracy: 0.8125\n",
      "Epoch 4/100\n",
      "20/20 [==============================] - 0s 8ms/step - loss: 0.3440 - accuracy: 0.8531 - val_loss: 0.5113 - val_accuracy: 0.8625\n",
      "Epoch 5/100\n",
      "20/20 [==============================] - 0s 8ms/step - loss: 0.3408 - accuracy: 0.8422 - val_loss: 0.5001 - val_accuracy: 0.8500\n",
      "Epoch 6/100\n",
      "20/20 [==============================] - 0s 8ms/step - loss: 0.3259 - accuracy: 0.8484 - val_loss: 0.4842 - val_accuracy: 0.8250\n",
      "Epoch 7/100\n",
      "20/20 [==============================] - 0s 8ms/step - loss: 0.3362 - accuracy: 0.8484 - val_loss: 0.4645 - val_accuracy: 0.8250\n",
      "Epoch 8/100\n",
      "20/20 [==============================] - 0s 8ms/step - loss: 0.3332 - accuracy: 0.8500 - val_loss: 0.4525 - val_accuracy: 0.8250\n",
      "Epoch 9/100\n",
      "20/20 [==============================] - 0s 8ms/step - loss: 0.3402 - accuracy: 0.8422 - val_loss: 0.4441 - val_accuracy: 0.7875\n",
      "Epoch 10/100\n",
      "20/20 [==============================] - 0s 7ms/step - loss: 0.3394 - accuracy: 0.8375 - val_loss: 0.4247 - val_accuracy: 0.7812\n",
      "Epoch 11/100\n",
      "20/20 [==============================] - 0s 8ms/step - loss: 0.3342 - accuracy: 0.8562 - val_loss: 0.3838 - val_accuracy: 0.8938\n",
      "Epoch 12/100\n",
      "20/20 [==============================] - 0s 7ms/step - loss: 0.3209 - accuracy: 0.8484 - val_loss: 0.3624 - val_accuracy: 0.8813\n",
      "Epoch 13/100\n",
      "20/20 [==============================] - 0s 7ms/step - loss: 0.3619 - accuracy: 0.8203 - val_loss: 0.4433 - val_accuracy: 0.8062\n",
      "Epoch 14/100\n",
      "20/20 [==============================] - 0s 7ms/step - loss: 0.3936 - accuracy: 0.8172 - val_loss: 0.3707 - val_accuracy: 0.8188\n",
      "Epoch 15/100\n",
      "20/20 [==============================] - 0s 7ms/step - loss: 0.3196 - accuracy: 0.8469 - val_loss: 0.3670 - val_accuracy: 0.8188\n",
      "Epoch 16/100\n",
      "20/20 [==============================] - 0s 8ms/step - loss: 0.3236 - accuracy: 0.8484 - val_loss: 0.3263 - val_accuracy: 0.8750\n",
      "Epoch 17/100\n",
      "20/20 [==============================] - 0s 7ms/step - loss: 0.3663 - accuracy: 0.8375 - val_loss: 0.3542 - val_accuracy: 0.8125\n",
      "Epoch 18/100\n",
      "20/20 [==============================] - 0s 8ms/step - loss: 0.3722 - accuracy: 0.8266 - val_loss: 0.3058 - val_accuracy: 0.8813\n",
      "Epoch 19/100\n",
      "20/20 [==============================] - 0s 7ms/step - loss: 0.3825 - accuracy: 0.8219 - val_loss: 0.3143 - val_accuracy: 0.8750\n",
      "Epoch 20/100\n",
      "20/20 [==============================] - 0s 7ms/step - loss: 0.3938 - accuracy: 0.8172 - val_loss: 0.3108 - val_accuracy: 0.8938\n",
      "Epoch 21/100\n",
      "20/20 [==============================] - 0s 7ms/step - loss: 0.4250 - accuracy: 0.8094 - val_loss: 0.9731 - val_accuracy: 0.7375\n",
      "Epoch 22/100\n",
      "20/20 [==============================] - 0s 7ms/step - loss: 0.5099 - accuracy: 0.8000 - val_loss: 0.3400 - val_accuracy: 0.8250\n",
      "Epoch 23/100\n",
      "20/20 [==============================] - 0s 8ms/step - loss: 0.4283 - accuracy: 0.7953 - val_loss: 0.5923 - val_accuracy: 0.7875\n"
     ]
    }
   ],
   "source": [
    "history = model.fit(X_train, y_train, epochs=100, validation_split=0.2, callbacks=[early_stopping], batch_size=32)"
   ]
  },
  {
   "cell_type": "code",
   "execution_count": 14,
   "id": "41f806f2",
   "metadata": {},
   "outputs": [
    {
     "name": "stdout",
     "output_type": "stream",
     "text": [
      "7/7 [==============================] - 1s 125ms/step - loss: 0.3678 - accuracy: 0.8400\n",
      "Test Loss: 0.36776402592658997, Test Accuracy: 0.8399999737739563\n"
     ]
    }
   ],
   "source": [
    "loss, accuracy = model.evaluate(X_test, y_test)\n",
    "print(f\"Test Loss: {loss}, Test Accuracy: {accuracy}\")"
   ]
  },
  {
   "cell_type": "code",
   "execution_count": null,
   "id": "1cf21b9b",
   "metadata": {},
   "outputs": [],
   "source": []
  }
 ],
 "metadata": {
  "kernelspec": {
   "display_name": "Python 3 (ipykernel)",
   "language": "python",
   "name": "python3"
  },
  "language_info": {
   "codemirror_mode": {
    "name": "ipython",
    "version": 3
   },
   "file_extension": ".py",
   "mimetype": "text/x-python",
   "name": "python",
   "nbconvert_exporter": "python",
   "pygments_lexer": "ipython3",
   "version": "3.11.5"
  }
 },
 "nbformat": 4,
 "nbformat_minor": 5
}
